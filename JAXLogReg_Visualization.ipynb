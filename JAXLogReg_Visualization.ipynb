{
  "nbformat": 4,
  "nbformat_minor": 0,
  "metadata": {
    "colab": {
      "provenance": []
    },
    "kernelspec": {
      "name": "python3",
      "display_name": "Python 3"
    },
    "language_info": {
      "name": "python"
    }
  },
  "cells": [
    {
      "cell_type": "markdown",
      "source": [
        "# Hello JAX"
      ],
      "metadata": {
        "id": "sIdc8r3mLhVM"
      }
    },
    {
      "cell_type": "markdown",
      "source": [
        "At its core, JAX is essentially a numerical computation library, like Numpy but\n",
        "with support for accelerators like GPU and TPU, and with a robust support for\n",
        "differentiation (`Autograd`). In this tutorial, we'll be implementing a logistic\n",
        "regression from scratch in JAX to give a very basic introduction to JAX."
      ],
      "metadata": {
        "id": "b_S_kvJKLkEH"
      }
    },
    {
      "cell_type": "markdown",
      "source": [
        "## Setting Up"
      ],
      "metadata": {
        "id": "QPUI-Jx8J8a4"
      }
    },
    {
      "cell_type": "markdown",
      "source": [
        "We start by importing some common modules. Note that JAX has it's own\n",
        "implementation of `numpy`, which we commonly import as `jnp` to avoid confusing\n",
        "with the default `numpy` implementation, which is usually imported as `np`.\n"
      ],
      "metadata": {
        "id": "ad5q1JuzLqpN"
      }
    },
    {
      "cell_type": "code",
      "execution_count": 12,
      "metadata": {
        "id": "jrQT7TBuRbTr"
      },
      "outputs": [],
      "source": [
        "import jax\n",
        "from jax import grad, numpy as jnp\n",
        "\n",
        "import glob\n",
        "import imageio\n",
        "import matplotlib.pyplot as plt"
      ]
    },
    {
      "cell_type": "markdown",
      "source": [
        "Next we generate a toy dataset to run logistic regression on. We start by\n",
        "generating a\n",
        "[PRNG key](https://jax.readthedocs.io/en/latest/_autosummary/jax.random.PRNGKey.html).\n",
        "This is one of the interesting differences between JAX and other frameworks: JAX\n",
        "explicitly requires passing a PRNG key every time to generate random numbers.\n",
        "One gotcha here is that if random number generation is called with the same PRNG\n",
        "key, the same set of numbers is returned. The recommended way to generate new\n",
        "random numbers is to [split they key](https://jax.readthedocs.io/en/latest/_autosummary/jax.random.split.html)\n"
      ],
      "metadata": {
        "id": "Vxls2I7TLwBc"
      }
    },
    {
      "cell_type": "code",
      "source": [
        "key = jax.random.PRNGKey(0)\n",
        "# Generating a toy dataset of 500 points and 2-dimensional data between -1 to 1.\n",
        "x = jax.random.uniform(key, shape=[500,2], minval=-1.0, maxval=1.0)\n",
        "# Setting a linear decision boundary for creating labels.\n",
        "t = 0.5*x[:,0] + 0.75*x[:, 1] -0.3\n",
        "# Creating labels based on the linear boundary.\n",
        "y = (t>0).astype(float)"
      ],
      "metadata": {
        "id": "TuX7IXoQRlUo"
      },
      "execution_count": null,
      "outputs": []
    },
    {
      "cell_type": "markdown",
      "source": [
        "We add a helper method to plot points and visualize the dataset.\n"
      ],
      "metadata": {
        "id": "lhzj9ZDzLyEx"
      }
    },
    {
      "cell_type": "code",
      "source": [
        "def plot_points(x, y, params=None):\n",
        "  positive_labels = x[jnp.where(y==0.0)[0]]\n",
        "  negative_labels = x[jnp.where(y==1.0)[0]]\n",
        "  plt.plot(positive_labels[:, 0], positive_labels[:, 1], 'bo')\n",
        "  plt.plot(negative_labels[:, 0], negative_labels[:, 1], 'ro')\n",
        "  plt.xlim([-1.05,1.05])\n",
        "  plt.ylim([-1.1,1.1])\n",
        "  if params:\n",
        "    x_range = jnp.linspace(-1.0, 1.0, 100)\n",
        "    y_boundary = -params[1]/params[0][1] - params[0][0]*x_range/params[0][1]\n",
        "    plt.plot(x_range, y_boundary, 'g-', linewidth='3')\n",
        "  plt.grid()\n",
        "\n",
        "plot_points(x, y)"
      ],
      "metadata": {
        "colab": {
          "base_uri": "https://localhost:8080/",
          "height": 265
        },
        "id": "MD_xksgcSfsH",
        "outputId": "266e87dc-6f59-4577-fcf0-05b5181d3172"
      },
      "execution_count": null,
      "outputs": [
        {
          "output_type": "display_data",
          "data": {
            "text/plain": [
              "<Figure size 432x288 with 1 Axes>"
            ],
            "image/png": "[encoded data removed]"
          },
          "metadata": {
            "needs_background": "light"
          }
        }
      ]
    },
    {
      "cell_type": "markdown",
      "source": [
        "## Defining the Model"
      ],
      "metadata": {
        "id": "ncAlsreuKFFG"
      }
    },
    {
      "cell_type": "markdown",
      "source": [
        "In this section, we define the model, loss function and verify that gradient\n",
        "calculation is working as expected. The model is a simple logistic regression\n",
        "model, so the model looks like:\n",
        "\n",
        "$$h_i = \\sigma(W^Tx_i + b) $$\n",
        "\n",
        "and the loss function is the standard binary cross-entropy loss:\n",
        "\n",
        "$$loss = -\\sum_i y_i log(h_i) + (1-y_i)log (1-h_i) $$\n",
        "\n",
        "We start by defining the params for our\n",
        "model. Since the data is 2-dimensional, we need to define two params, the weight\n",
        "matrix $W$, and the bias term $b$. Another interesting thing is that even if\n",
        "params are a nested list or dictionary, `Autograd` would still work fine.\n"
      ],
      "metadata": {
        "id": "JjqcQjmGLSbD"
      }
    },
    {
      "cell_type": "code",
      "source": [
        "W = jax.random.uniform(key, shape=[2,1])\n",
        "b = jax.random.uniform(key, shape=[1,])\n",
        "params = [W, b]\n",
        "print(params)"
      ],
      "metadata": {
        "colab": {
          "base_uri": "https://localhost:8080/"
        },
        "id": "mufEzHesVCWq",
        "outputId": "99f15a7e-1c30-4def-bd93-8ab7dd54df04"
      },
      "execution_count": null,
      "outputs": [
        {
          "output_type": "stream",
          "name": "stdout",
          "text": [
            "[DeviceArray([[0.21629536],\n",
            "             [0.8041241 ]], dtype=float32), DeviceArray([0.41845703], dtype=float32)]\n"
          ]
        }
      ]
    },
    {
      "cell_type": "markdown",
      "source": [
        "Next we define the model and the loss function:\n"
      ],
      "metadata": {
        "id": "-PquN8bTL6bZ"
      }
    },
    {
      "cell_type": "code",
      "source": [
        "def h_theta(params, x):\n",
        "  h = x@params[0] + params[1]\n",
        "  h = jax.nn.sigmoid(h)\n",
        "  return h\n",
        "\n",
        "def loss(params, x, y):\n",
        "  h = h_theta(params, x)\n",
        "  h = jnp.reshape(h, [-1,])\n",
        "  log_h = jnp.log(h)\n",
        "  inv_log_h = jnp.log(1-h)\n",
        "  return -jnp.sum(log_h*y + inv_log_h*(1-y))"
      ],
      "metadata": {
        "id": "WMM1lf9DKOIJ"
      },
      "execution_count": null,
      "outputs": []
    },
    {
      "cell_type": "markdown",
      "source": [
        "The simplest way gradient calculation works in JAX is by calling the `grad`\n",
        "method on any function. By default, the gradient is calculated w.r.t the first\n",
        "parameter of the method. For example, for a function `loss(params, x, y)`,\n",
        "`grad(loss)` would return a function that calculates the gradient of the method\n",
        "`loss` at `(params, x, y)` w.r.t `params`. To make sure gradient calculation is\n",
        "working as expected, we can calculate the gradient manually as well.\n",
        "\n",
        "$$ \\frac{\\partial h_i}{\\partial W} = h_i (1-h_i)x_i$$\n",
        "$$\\frac{\\partial h_i}{\\partial b} = h_i (1-h_i)$$\n",
        "$$\\frac{\\partial loss}{\\partial W} = -\\sum_i y_i\\frac{\\partial log(h_i)}{\\partial W} + (1-y_i)\\frac{\\partial log(1-h_i)}{\\partial W} $$\n",
        "$$ = -\\sum_i \\frac{y_i}{h_i}h_i (1-h_i)x_i + \\frac{(1-y_i)}{1-h_i}(-1)h_i(1-h_i)x_i$$\n",
        "$$ = -\\sum_i y_i(1-h_i)x_i - (1-y_i)h_i x_i $$\n",
        "$$ = \\sum_i x_i (h_i - y_i) $$\n",
        "$$\\frac{\\partial loss}{\\partial b} = \\sum_i (h_i - y_i) $$\n",
        "\n",
        "Vectorially, this can be represented as\n",
        "$$ \\frac{\\partial loss}{\\partial W} = x^T(h-y), \\frac{\\partial loss}{\\partial b} = (h-y)$$\n",
        "\n",
        "$$ \\nabla_\\theta loss  =\n",
        "\\begin{bmatrix}\n",
        "\\frac{\\partial loss}{\\partial W} \\\\\n",
        "\\\\\n",
        "\\frac{\\partial loss}{\\partial b}\n",
        "\\end{bmatrix} =\n",
        "\\begin{bmatrix}\n",
        "x^T(h-y) \\\\\n",
        "\\\\\n",
        "h-y\n",
        "\\end{bmatrix}$$\n",
        "\n",
        "We can verify this in JAX with the following code:"
      ],
      "metadata": {
        "id": "Lh49XX0PL7Sk"
      }
    },
    {
      "cell_type": "code",
      "source": [
        "# Calculating gradient with Autograd.\n",
        "g = grad(loss)(params, x, y)\n",
        "print(g)\n",
        "\n",
        "# Calculating gradient manually.\n",
        "ht = h_theta(params, x)\n",
        "ht_y = (ht - jnp.reshape(y, [-1,1]))\n",
        "print(jnp.transpose(x) @ ht_y)\n",
        "print(jnp.sum(ht_y))"
      ],
      "metadata": {
        "colab": {
          "base_uri": "https://localhost:8080/"
        },
        "id": "31CNDedQKR_5",
        "outputId": "debcf198-1d50-403a-ecd2-e6c293d9985b"
      },
      "execution_count": null,
      "outputs": [
        {
          "output_type": "stream",
          "name": "stdout",
          "text": [
            "[DeviceArray([[-43.4814  ],\n",
            "             [-56.080788]], dtype=float32), DeviceArray([150.28549], dtype=float32)]\n",
            "[[-43.4814  ]\n",
            " [-56.080738]]\n",
            "150.28549\n"
          ]
        }
      ]
    },
    {
      "cell_type": "markdown",
      "source": [
        "Gradients look alright. Next we run gradient descent."
      ],
      "metadata": {
        "id": "S7-FRLnngJWs"
      }
    },
    {
      "cell_type": "markdown",
      "source": [
        "## Running Gradient Descent\n"
      ],
      "metadata": {
        "id": "7qfb9cOKMGiu"
      }
    },
    {
      "cell_type": "code",
      "source": [
        "# Create a directory for storing images.\n",
        "!mkdir /content/images"
      ],
      "metadata": {
        "id": "r2CWyKphC2_K"
      },
      "execution_count": null,
      "outputs": []
    },
    {
      "cell_type": "markdown",
      "source": [
        "To run gradient descent, we set a learning rate of `0.01` and use the standard update rule for gradient descent.\n"
      ],
      "metadata": {
        "id": "ESWrExm5MJ92"
      }
    },
    {
      "cell_type": "code",
      "source": [
        "alpha = 0.01\n",
        "loss_values = []\n",
        "\n",
        "for i in range(20):\n",
        "  plot_points(x, y, params)\n",
        "  plt.savefig('/content/images/%03d.png'%i)\n",
        "  plt.show()\n",
        "  grads = grad(loss)(params, x, y)\n",
        "  params[0] -= alpha * grads[0]\n",
        "  params[1] -= alpha * grads[1]\n",
        "  l = loss(params, x, y)\n",
        "  loss_values.append(l)"
      ],
      "metadata": {
        "id": "1dHJGjVilG-L"
      },
      "execution_count": null,
      "outputs": []
    },
    {
      "cell_type": "markdown",
      "source": [
        "We can plot the `loss_values` to see how they change with each step.\n"
      ],
      "metadata": {
        "id": "PgjSeYJYMOqG"
      }
    },
    {
      "cell_type": "code",
      "source": [
        "loss_values = [float(i) for i in loss_values]\n",
        "plt.plot(range(len(loss_values)), loss_values, 'g-')\n",
        "plt.grid()"
      ],
      "metadata": {
        "colab": {
          "base_uri": "https://localhost:8080/",
          "height": 430
        },
        "id": "5kK0KabFvJh4",
        "outputId": "998d2e24-1ec5-40f5-a822-60a4dc82bc0f"
      },
      "execution_count": 13,
      "outputs": [
        {
          "output_type": "display_data",
          "data": {
            "text/plain": [
              "<Figure size 640x480 with 1 Axes>"
            ],
            "image/png": "[encoded data removed]"
          },
          "metadata": {}
        }
      ]
    },
    {
      "cell_type": "markdown",
      "source": [
        "To generate a GIF of how the decision boundary changes with each step, we can run the following code:\n"
      ],
      "metadata": {
        "id": "2-EM3VyeMQw3"
      }
    },
    {
      "cell_type": "code",
      "source": [
        "fileList = glob.glob('/content/images/*.png')\n",
        "fileList.sort()\n",
        "\n",
        "with imageio.get_writer('/content/grad_descent.gif', mode='I') as writer:\n",
        "    for filename in fileList:\n",
        "        image = imageio.imread(filename)\n",
        "        writer.append_data(image)"
      ],
      "metadata": {
        "id": "vLpPaOOdwBK4"
      },
      "execution_count": null,
      "outputs": []
    }
  ]
}